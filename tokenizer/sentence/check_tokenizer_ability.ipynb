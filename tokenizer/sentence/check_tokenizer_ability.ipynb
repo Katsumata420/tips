{
 "cells": [
  {
   "cell_type": "markdown",
   "metadata": {},
   "source": [
    "# Check the tokenizer ability"
   ]
  },
  {
   "cell_type": "markdown",
   "metadata": {},
   "source": [
    "## compare\n",
    "- nltk\n",
    "- spacy"
   ]
  },
  {
   "cell_type": "code",
   "execution_count": 1,
   "metadata": {},
   "outputs": [],
   "source": [
    "text_long = \"This thing seemed to overpower and astonish the little dark-brown dog, and wounded him to the heart. He sank down in despair at the child's feet. When the blow was repeated, together with an admonition in childish sentences, he turned over upon his back, and held his paws in a peculiar manner. At the same time with his ears and his eyes he offered a small prayer to the child.\" "
   ]
  },
  {
   "cell_type": "code",
   "execution_count": 7,
   "metadata": {},
   "outputs": [],
   "source": [
    "text_adversarial = 'He says that \"I want to watch the soccer, not baseball. Please change the TV program. OK?\". He is angry.'"
   ]
  },
  {
   "cell_type": "code",
   "execution_count": 13,
   "metadata": {},
   "outputs": [],
   "source": [
    "text_long_ad = \"He joined Davis, Miner, Barnhill & Galland, a 13-attorney law firm specializing in civil rights litigation and neighborhood economic development, where he was an associate for three years from 1993 to 1996, then of counsel \\\n",
    "from 1996 to 2004. In 1994, he was listed as one of the lawyers in Buycks-Roberson v. Citibank Fed. Sav. Bank, 94 C 4094 (N.D. Ill.).\""
   ]
  },
  {
   "cell_type": "code",
   "execution_count": 2,
   "metadata": {},
   "outputs": [
    {
     "data": {
      "text/plain": [
       "\"This thing seemed to overpower and astonish the little dark-brown dog, and wounded him to the heart. He sank down in despair at the child's feet. When the blow was repeated, together with an admonition in childish sentences, he turned over upon his back, and held his paws in a peculiar manner. At the same time with his ears and his eyes he offered a small prayer to the child.\""
      ]
     },
     "execution_count": 2,
     "metadata": {},
     "output_type": "execute_result"
    }
   ],
   "source": [
    "text_long"
   ]
  },
  {
   "cell_type": "code",
   "execution_count": 32,
   "metadata": {},
   "outputs": [],
   "source": [
    "def printer(sents):\n",
    "    for i, line in enumerate(sents):\n",
    "        print(i)\n",
    "        print(line)"
   ]
  },
  {
   "cell_type": "markdown",
   "metadata": {},
   "source": [
    "### nltk sentence tokenizer"
   ]
  },
  {
   "cell_type": "code",
   "execution_count": 3,
   "metadata": {},
   "outputs": [],
   "source": [
    "import nltk"
   ]
  },
  {
   "cell_type": "code",
   "execution_count": 33,
   "metadata": {
    "scrolled": true
   },
   "outputs": [
    {
     "name": "stdout",
     "output_type": "stream",
     "text": [
      "0\n",
      "This thing seemed to overpower and astonish the little dark-brown dog, and wounded him to the heart.\n",
      "1\n",
      "He sank down in despair at the child's feet.\n",
      "2\n",
      "When the blow was repeated, together with an admonition in childish sentences, he turned over upon his back, and held his paws in a peculiar manner.\n",
      "3\n",
      "At the same time with his ears and his eyes he offered a small prayer to the child.\n"
     ]
    }
   ],
   "source": [
    "sentences = nltk.sent_tokenize(text_long)\n",
    "printer(sentences)"
   ]
  },
  {
   "cell_type": "code",
   "execution_count": 34,
   "metadata": {},
   "outputs": [
    {
     "name": "stdout",
     "output_type": "stream",
     "text": [
      "0\n",
      "He says that \"I want to watch the soccer, not baseball.\n",
      "1\n",
      "Please change the TV program.\n",
      "2\n",
      "OK?\".\n",
      "3\n",
      "He is angry.\n"
     ]
    }
   ],
   "source": [
    "sentences = nltk.sent_tokenize(text_adversarial)\n",
    "printer(sentences)"
   ]
  },
  {
   "cell_type": "code",
   "execution_count": 35,
   "metadata": {},
   "outputs": [
    {
     "name": "stdout",
     "output_type": "stream",
     "text": [
      "0\n",
      "He joined Davis, Miner, Barnhill & Galland, a 13-attorney law firm specializing in civil rights litigation and neighborhood economic development, where he was an associate for three years from 1993 to 1996, then of counsel from 1996 to 2004.\n",
      "1\n",
      "In 1994, he was listed as one of the lawyers in Buycks-Roberson v. Citibank Fed.\n",
      "2\n",
      "Sav.\n",
      "3\n",
      "Bank, 94 C 4094 (N.D. Ill.).\n"
     ]
    }
   ],
   "source": [
    "sentences = nltk.sent_tokenize(text_long_ad)\n",
    "printer(sentences)"
   ]
  },
  {
   "cell_type": "markdown",
   "metadata": {},
   "source": [
    "## result\n",
    "- simple long text: almost ok\n",
    "- adversarial text: cannot\n",
    "- long and adversarial: cannot (place name)"
   ]
  },
  {
   "cell_type": "markdown",
   "metadata": {},
   "source": [
    "### spacy "
   ]
  },
  {
   "cell_type": "code",
   "execution_count": 21,
   "metadata": {},
   "outputs": [],
   "source": [
    "import spacy"
   ]
  },
  {
   "cell_type": "code",
   "execution_count": 25,
   "metadata": {},
   "outputs": [],
   "source": [
    "tokenizer = spacy.load('/Users/satoru/.pyenv/versions/new_3.6.6/lib/python3.6/site-packages/en_core_web_sm/en_core_web_sm-2.1.0/')"
   ]
  },
  {
   "cell_type": "code",
   "execution_count": 37,
   "metadata": {},
   "outputs": [
    {
     "name": "stdout",
     "output_type": "stream",
     "text": [
      "0\n",
      "This thing seemed to overpower and astonish the little dark-brown dog, and wounded him to the heart.\n",
      "1\n",
      "He sank down in despair at the child's feet.\n",
      "2\n",
      "When the blow was repeated, together with an admonition in childish sentences, he turned over upon his back, and held his paws in a peculiar manner.\n",
      "3\n",
      "At the same time with his ears and his eyes he offered a small prayer to the child.\n"
     ]
    }
   ],
   "source": [
    "sentences = tokenizer(text_long).sents\n",
    "printer(sentences)"
   ]
  },
  {
   "cell_type": "code",
   "execution_count": 38,
   "metadata": {},
   "outputs": [
    {
     "name": "stdout",
     "output_type": "stream",
     "text": [
      "0\n",
      "He says that \"I want to watch the soccer, not baseball.\n",
      "1\n",
      "Please change the TV program.\n",
      "2\n",
      "OK?\n",
      "3\n",
      "\".\n",
      "4\n",
      "He is angry.\n"
     ]
    }
   ],
   "source": [
    "sentences = tokenizer(text_adversarial).sents\n",
    "printer(sentences)"
   ]
  },
  {
   "cell_type": "code",
   "execution_count": 39,
   "metadata": {},
   "outputs": [
    {
     "name": "stdout",
     "output_type": "stream",
     "text": [
      "0\n",
      "He joined Davis, Miner, Barnhill & Galland, a 13-attorney law firm specializing in civil rights litigation and neighborhood economic development, where he was an associate for three years from 1993 to 1996, then of counsel from 1996 to 2004.\n",
      "1\n",
      "In 1994, he was listed as one of the lawyers in Buycks-Roberson v. Citibank Fed.\n",
      "2\n",
      "Sav.\n",
      "3\n",
      "Bank, 94 C\n",
      "4\n",
      "4094 (N.D. Ill.).\n"
     ]
    }
   ],
   "source": [
    "sentences = tokenizer(text_long_ad).sents\n",
    "printer(sentences)"
   ]
  },
  {
   "cell_type": "markdown",
   "metadata": {},
   "source": [
    "## result\n",
    "- long text: almost ok\n",
    "- adversarial: cannot, generate very short sentence.\n",
    "- long and adversaril: cannot, generate very short sentence"
   ]
  },
  {
   "cell_type": "markdown",
   "metadata": {},
   "source": [
    "# overall\n",
    "- spacy tokenizer generate shorter segement than that of nltk.\n",
    "- Best practice (I think): use spacy with cutting the short segment. Then, we can use good sentence, maybe..."
   ]
  },
  {
   "cell_type": "markdown",
   "metadata": {},
   "source": [
    "### related work"
   ]
  },
  {
   "cell_type": "markdown",
   "metadata": {},
   "source": [
    "- https://blog.thedataincubator.com/2016/04/nltk-vs-spacy-natural-language-processing-in-python/"
   ]
  }
 ],
 "metadata": {
  "kernelspec": {
   "display_name": "Python 3",
   "language": "python",
   "name": "python3"
  },
  "language_info": {
   "codemirror_mode": {
    "name": "ipython",
    "version": 3
   },
   "file_extension": ".py",
   "mimetype": "text/x-python",
   "name": "python",
   "nbconvert_exporter": "python",
   "pygments_lexer": "ipython3",
   "version": "3.6.6"
  }
 },
 "nbformat": 4,
 "nbformat_minor": 2
}
